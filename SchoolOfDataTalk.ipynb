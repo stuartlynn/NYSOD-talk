{
 "cells": [
  {
   "cell_type": "code",
   "execution_count": 53,
   "metadata": {
    "collapsed": false,
    "slideshow": {
     "slide_type": "skip"
    }
   },
   "outputs": [],
   "source": [
    "import pandas as pd \n",
    "import requests\n",
    "import numpy as np\n",
    "import matplotlib.pyplot as plt\n",
    "import matplotlib.cm as cm\n",
    "import seaborn as sbn\n",
    "from urllib.parse import urlencode\n",
    "from sklearn.cluster import KMeans\n",
    "from sklearn.metrics import silhouette_samples, silhouette_score\n",
    "from sklearn.manifold import TSNE\n",
    "from sklearn.decomposition import PCA\n",
    "from IPython.display import HTML, Image\n",
    "\n",
    "\n",
    "def iframe(url, width=800, height=400, https=True):\n",
    "    if https:\n",
    "        url2 = url.replace('http:','https:')\n",
    "    else:\n",
    "        url2 = url.replace('https:','htt')\n",
    "    return HTML(\"<iframe width={width} height={height} src='{url}'></iframe>\".format(width=width, height=height, url=url2))"
   ]
  },
  {
   "cell_type": "markdown",
   "metadata": {
    "slideshow": {
     "slide_type": "slide"
    }
   },
   "source": [
    "# Beyond Visualisation : 5 Methods For Answering Questions With your Data\n",
    "\n",
    "Stuart Lynn: Head of Data And Research [@carto](https://twitter.com/CARTO)\n",
    "\n",
    "\n",
    "[@stuart_lynn](https://twitter.com/Stuart_Lynn?ref_src=twsrc%5Egoogle%7Ctwcamp%5Eserp%7Ctwgr%5Eauthor)\n",
    "\n",
    "Follow along here: [http://stuartlynn.github.com/NYSOD-talk](stuartlynn.github.com/NYSOD-talk)\n",
    "\n",
    "Github Repo lives here: [http://github.com/stuartlynn/NYSOD-talk](http://github.com/stuartlynn/NYSOD-talk)"
   ]
  },
  {
   "cell_type": "markdown",
   "metadata": {
    "collapsed": false,
    "slideshow": {
     "slide_type": "slide"
    }
   },
   "source": [
    "<iframe src='http://carto.com' style='width:90%; min-height:600px; height:90%'></iframe>"
   ]
  },
  {
   "cell_type": "markdown",
   "metadata": {
    "slideshow": {
     "slide_type": "slide"
    }
   },
   "source": [
    "##  Spatial Open Gov Data Axioms\n",
    "\n",
    "- Most Open Gov data has some kind of spatial aspect to it.\n",
    "- Open Gov people love making maps (but who doesn't)!\n",
    "\n",
    "\n",
    "<img src=\"imgs/lovemap.png\" alt=\"Drawing\" style=\"width: 300px;\"/>\n"
   ]
  },
  {
   "cell_type": "markdown",
   "metadata": {
    "slideshow": {
     "slide_type": "slide"
    }
   },
   "source": [
    "## Spatial Data \n",
    "\n",
    "- This has lead to some really awesome maps that tell really interesting stories about the places we live. \n",
    "- It has also led to some really interesting apps that give communites acces to information the desperately need.\n"
   ]
  },
  {
   "cell_type": "markdown",
   "metadata": {
    "slideshow": {
     "slide_type": "slide"
    }
   },
   "source": [
    "## This talk is about exploring other tools we can use to ask questions of our data and get answers back."
   ]
  },
  {
   "cell_type": "markdown",
   "metadata": {
    "slideshow": {
     "slide_type": "slide"
    }
   },
   "source": [
    "<img src='https://s-media-cache-ak0.pinimg.com/originals/65/d6/d9/65d6d9d3172dcc27daea6ecd1e9afc1b.gif'></img>"
   ]
  },
  {
   "cell_type": "markdown",
   "metadata": {
    "slideshow": {
     "slide_type": "slide"
    }
   },
   "source": [
    "## ~~Messy~~ Real World Data. \n",
    "\n",
    "Today for this workshop we are going to be using 311 data which you can obtain from [here](https://nycopendata.socrata.com/Social-Services/311-Service-Requests-from-2010-to-Present/erm2-nwe9):\n",
    "\n",
    "<iframe style='width:90%; min-height:600px; height:90%' src=\"https://nycopendata.socrata.com/Social-Services/311-Service-Requests-from-2010-to-Present/erm2-nwe9\"></iframe>"
   ]
  },
  {
   "cell_type": "markdown",
   "metadata": {
    "slideshow": {
     "slide_type": "slide"
    }
   },
   "source": [
    "## ~~Messy~~ Real World Data. \n",
    "\n",
    "\n",
    "...but actually its a lot easier to get from here\n",
    "\n",
    "<iframe style='width:90%; min-height:400px; height:90%' src=\"https://chriswhong.github.io/311plus/\"></iframe>\n",
    "\n",
    "_Thanks Chris!_"
   ]
  },
  {
   "cell_type": "markdown",
   "metadata": {
    "slideshow": {
     "slide_type": "slide"
    }
   },
   "source": [
    "## Why 311 data?\n",
    "\n",
    "- Want this talk to show not just polished examples where everything goes right (trust me it wont)."
   ]
  },
  {
   "cell_type": "markdown",
   "metadata": {
    "slideshow": {
     "slide_type": "fragment"
    }
   },
   "source": [
    "- Want it to show some of the subtleties you will encounter with working with data like this."
   ]
  },
  {
   "cell_type": "markdown",
   "metadata": {
    "slideshow": {
     "slide_type": "fragment"
    }
   },
   "source": [
    "- I didn't realize it was going to be quite this messy until I started using it"
   ]
  },
  {
   "cell_type": "markdown",
   "metadata": {
    "slideshow": {
     "slide_type": "slide"
    }
   },
   "source": [
    "## First Step - Load the data in to CARTO and make a pretty map\n",
    "\n",
    "<iframe style='width:800px; min-height:600px; height:90%' src='https://team.carto.com/u/stuartlynn/builder/3b000998-fddd-11e6-a748-0e3ff518bd15/embed'></iframe>\n",
    "\n",
    "Thats a lot of complaining... hard to see trends though... lets add some widgets"
   ]
  },
  {
   "cell_type": "markdown",
   "metadata": {
    "slideshow": {
     "slide_type": "slide"
    }
   },
   "source": [
    "<iframe style='width:800px; min-height:600px; height:90%' src='https://team.carto.com/u/stuartlynn/builder/4244fa1a-6049-4bf6-8bb7-cced0387eb50/embed'></iframe>\n",
    "\n",
    "This allows us to start to visually interegate the data and to start getting some idea of whats going on"
   ]
  },
  {
   "cell_type": "markdown",
   "metadata": {
    "slideshow": {
     "slide_type": "slide"
    }
   },
   "source": [
    "## Problems with relying only on visual exploration\n",
    "\n",
    "1. The points on the map are all pretty near each other, multiple records might be on top of each other masking the real pattern \n",
    "2. It's hard to get a handle on real numbers \n",
    "3. There are so many different complaint types its hard to really pull them all together.\n",
    "4. It's hard to pick out any real trends."
   ]
  },
  {
   "cell_type": "markdown",
   "metadata": {
    "slideshow": {
     "slide_type": "slide"
    }
   },
   "source": [
    "## Method no 1: Aggregate the data! \n",
    "\n",
    "1. Really what we want are number counts of different complaints to different agencies in different areas\n",
    "2. We really want to aggregate the data to some kind of boundaries\n"
   ]
  },
  {
   "cell_type": "markdown",
   "metadata": {
    "slideshow": {
     "slide_type": "slide"
    }
   },
   "source": [
    "## Introducing the Carto Data Observatory\n",
    "\n",
    "- A repository of easy to access set of public open data and an API/interface to consume it.\n",
    "- It's open source! [https://github.com/cartodb/bigmetadata](https://github.com/cartodb/bigmetadata)\n",
    "\n",
    "<iframe style='width:90%; min-height:400px; height:90%' src='https://carto.com/data-observatory/'></iframe>"
   ]
  },
  {
   "cell_type": "markdown",
   "metadata": {
    "slideshow": {
     "slide_type": "slide"
    }
   },
   "source": [
    "## The Catalouge\n",
    "\n",
    "<iframe style='width:90%; min-height:400px; height:90%' src='https://cartodb.github.io/bigmetadata/united_states/boundary.html#us-census-tracts'></iframe>"
   ]
  },
  {
   "cell_type": "markdown",
   "metadata": {
    "slideshow": {
     "slide_type": "slide"
    }
   },
   "source": [
    "## Grabbing Census Tracts\n",
    "\n",
    "```postgresql\n",
    "\n",
    "INSERT INTO {new_table_name} (the_geom, {geo_id_column})\n",
    "  SELECT *\n",
    "  FROM OBS_GetBoundariesByGeometry(\n",
    "    ST_MakeEnvelope(-74.259094,40.477398,-73.700165,40.91758, 4326),\n",
    "    'us.census.tiger.census_tract'\n",
    "  )\n",
    "```"
   ]
  },
  {
   "cell_type": "markdown",
   "metadata": {
    "slideshow": {
     "slide_type": "slide"
    }
   },
   "source": [
    "<iframe style='width:800px; min-height:600px; height:90%' src='https://team.carto.com/u/stuartlynn/builder/37cd3ac4-009f-11e7-a398-0ee66e2c9693/embed'></iframe>"
   ]
  },
  {
   "cell_type": "markdown",
   "metadata": {
    "slideshow": {
     "slide_type": "slide"
    }
   },
   "source": [
    "## Method no 2: Normalize that data! \n",
    "\n",
    "<img src='https://imgs.xkcd.com/comics/heatmap.png'></img>\n",
    "[xkcd](https://imgs.xkcd.com/comics/heatmap.png)\n"
   ]
  },
  {
   "cell_type": "markdown",
   "metadata": {
    "collapsed": true,
    "slideshow": {
     "slide_type": "slide"
    }
   },
   "source": [
    "<iframe style='width:800px; min-height:600px; height:90%' src='https://team.carto.com/u/stuartlynn/builder/d287d6c0-005c-11e7-8512-0e3a376473ab/embed'></iframe>"
   ]
  },
  {
   "cell_type": "markdown",
   "metadata": {
    "slideshow": {
     "slide_type": "slide"
    }
   },
   "source": [
    "## Method 3: Look for statistically significant clusters and outliers\n",
    "\n",
    "After seeing the data our eyes might be drawn to areas where there appears to be high or low density of calls \n",
    "Is this really a pattern though or our eyes deceiving us?\n",
    "\n",
    "There is a statistical test for finding spatial similar clusters called Moran I which we have built in to CARTO.\n",
    "\n",
    "<img src='imgs/Moran.png'></img>\n"
   ]
  },
  {
   "cell_type": "markdown",
   "metadata": {
    "slideshow": {
     "slide_type": "slide"
    }
   },
   "source": [
    "The output of Moran I are regions where there are spatial clusters and outliers. A region gets one of 4 categories:\n",
    "\n",
    "- HH - The regions is in a cluster of statistically high value\n",
    "- LL - The regions is in a cluster of statistically low value\n",
    "- LH - The regions is an outlier of statically low activity compared to its neighbors\n",
    "- HL - The regions is an outlier of statically high activity compared to its neighbors\n",
    "\n",
    "Lets apply this to the 311 complaints to the NYPD "
   ]
  },
  {
   "cell_type": "markdown",
   "metadata": {
    "slideshow": {
     "slide_type": "slide"
    }
   },
   "source": [
    "<iframe style='width:800px; min-height:600px; height:90%' src='https://team.carto.com/u/stuartlynn/builder/383529fb-e262-4c04-b49d-1023a8a772e6/embed'></iframe>"
   ]
  },
  {
   "cell_type": "markdown",
   "metadata": {
    "slideshow": {
     "slide_type": "slide"
    }
   },
   "source": [
    "## Another interesting example: Earthquake tweets \n",
    "\n",
    "<iframe style='width:800px; min-height:600px; height:90%' src='https://team.carto.com/u/mamataakella/builder/5023b856-3e5d-4d71-b0a5-80960575e90e/embed'></iframe>"
   ]
  },
  {
   "cell_type": "markdown",
   "metadata": {
    "slideshow": {
     "slide_type": "slide"
    }
   },
   "source": [
    "## What next? \n",
    "\n",
    "- Aggregated and Normalized data is awesome for finding patters in data of a single variable \n",
    "- What about the patterns between agencies though? How can we easily understand them?\n"
   ]
  },
  {
   "cell_type": "markdown",
   "metadata": {
    "slideshow": {
     "slide_type": "slide"
    }
   },
   "source": [
    "## The problem: Maps tend to be univariate or bivariate at best and even then they can be confusing.\n",
    "\n"
   ]
  },
  {
   "cell_type": "markdown",
   "metadata": {
    "slideshow": {
     "slide_type": "slide"
    }
   },
   "source": [
    "## Great examples of Bi-Variate mapping\n",
    "\n",
    "<iframe style='width:800px; min-height:600px; height:90%' src='http://www.joshuastevens.net/cartography/make-a-bivariate-choropleth-map/'></iframe>"
   ]
  },
  {
   "cell_type": "markdown",
   "metadata": {
    "slideshow": {
     "slide_type": "slide"
    }
   },
   "source": [
    "## Method 4: Clustering\n",
    "\n",
    "The problem: The census has 100's if not 1000's of pieces of information for each location. How can show all that data on a map at the same time?\n",
    "\n",
    "\n",
    "The Solution: Try to find neighborhoods that are similar to each other in a number of variables and create categories of neighborhoods based on those similarities.\n"
   ]
  },
  {
   "cell_type": "markdown",
   "metadata": {
    "slideshow": {
     "slide_type": "slide"
    }
   },
   "source": [
    "<iframe style='width:800px; min-height:600px; height:90%' src='https://observatory.carto.com/viz/141d46d6-1c85-11e6-9708-0ecfd53eb7d3/embed_map'></iframe>"
   ]
  },
  {
   "cell_type": "markdown",
   "metadata": {
    "slideshow": {
     "slide_type": "slide"
    }
   },
   "source": [
    "<iframe style='width:800px; min-height:600px; height:90%' src='http://www.chpcny.org/making-neighborhoods-map/index.html'></iframe>"
   ]
  },
  {
   "cell_type": "markdown",
   "metadata": {
    "slideshow": {
     "slide_type": "slide"
    }
   },
   "source": [
    "## Different clustering methods \n",
    "\n",
    "- [k-means](http://scikit-learn.org/stable/modules/generated/sklearn.cluster.KMeans.html)\n",
    "- [Agglomerative clustering](http://scikit-learn.org/stable/modules/generated/sklearn.cluster.AgglomerativeClustering.html)\n",
    "- [DBSCAN](http://scikit-learn.org/stable/modules/generated/sklearn.cluster.DBSCAN.html)\n",
    "\n",
    "This is a feature we are working to bring to CARTO pretty soon. In the mean time this [notebook](New York 311.ipynb ) that accompanies this talk has examples of how to compute these clusters"
   ]
  },
  {
   "cell_type": "markdown",
   "metadata": {
    "slideshow": {
     "slide_type": "slide"
    }
   },
   "source": [
    "## Apply this to the top 4 agencies in our dataset \n",
    "\n",
    "<img src='imgs/Characteristics.png'></img>"
   ]
  },
  {
   "cell_type": "markdown",
   "metadata": {
    "slideshow": {
     "slide_type": "fragment"
    }
   },
   "source": [
    "## Give the data better labels \n",
    "\n",
    "0. Many calls NYPD and Housing \n",
    "1. All low complaints Moderate no Sanitation and Transportation\n",
    "3. High call Rate: Sanitation Transport and moderate Police \n",
    "4. Low volume varied"
   ]
  },
  {
   "cell_type": "markdown",
   "metadata": {
    "slideshow": {
     "slide_type": "slide"
    }
   },
   "source": [
    "\n",
    "<iframe style='width:800px; min-height:600px; height:90%' src='https://team.carto.com/u/stuartlynn/builder/12447a72-00a6-11e7-8352-0ecd1babdde5/embed'></iframe>\n"
   ]
  },
  {
   "cell_type": "markdown",
   "metadata": {
    "slideshow": {
     "slide_type": "slide"
    }
   },
   "source": [
    "## Method 5: How do relationships vary from place to place?\n",
    "\n",
    "We all know that the relationship between things can vary from place to place \n",
    "\n",
    "We intuitively understand for example that the price of a house in an urban environment is effected highly by its proximity to public transit. \n",
    "\n",
    "While in rural areas this matters less.\n",
    "\n",
    "How can we quantify these relationships"
   ]
  },
  {
   "cell_type": "markdown",
   "metadata": {
    "slideshow": {
     "slide_type": "slide"
    }
   },
   "source": [
    "## Method 5: Regression Analysis\n",
    "\n",
    "We are going to try and understand how some census variables impact the total volume of 311 calls \n",
    "\n",
    "Or we where before I ran out of time for fighting 311 data... So instead let me present some other interesting use-case for this kind of analysis.\n"
   ]
  },
  {
   "cell_type": "code",
   "execution_count": null,
   "metadata": {
    "collapsed": true
   },
   "outputs": [],
   "source": [
    "<iframe style='width:800px; min-height:600px; height:90%' src='https://team.carto.com/u/stuartlynn/builder/e311d600-689d-11e6-8fa0-0e3ff518bd15/embed' ></iframe>"
   ]
  },
  {
   "cell_type": "markdown",
   "metadata": {
    "slideshow": {
     "slide_type": "slide"
    }
   },
   "source": [
    "## UK petitions \n",
    "\n",
    "<iframe style='width:800px; min-height:600px; height:90%'  src='http://petitionmap.unboxedconsulting.com'></iframe>"
   ]
  },
  {
   "cell_type": "markdown",
   "metadata": {
    "slideshow": {
     "slide_type": "slide"
    }
   },
   "source": [
    "<img src='imgs/Tweet.png'></img>\n"
   ]
  },
  {
   "cell_type": "markdown",
   "metadata": {
    "slideshow": {
     "slide_type": "slide"
    }
   },
   "source": [
    "## Petitions that highly correlate with the petition to ban Trump from a state visit\n",
    "\n",
    "<img src='imgs/TrumpCorrelations.png'></img>"
   ]
  },
  {
   "cell_type": "markdown",
   "metadata": {
    "slideshow": {
     "slide_type": "slide"
    }
   },
   "source": [
    "## Petitions that highly anti-correlate with the Trump petition\n",
    "\n",
    "<img src='imgs/anti_correlations.png'></img>"
   ]
  },
  {
   "cell_type": "markdown",
   "metadata": {
    "slideshow": {
     "slide_type": "slide"
    }
   },
   "source": [
    "### Accept more asylum seekers and increase support for refugee migrants in the UK.\n",
    "\n",
    "<iframe style='width:800px; min-height:600px; height:90%' src='https://team.carto.com/u/stuartlynn/builder/010f9b4c-005b-11e7-be55-0e3a376473ab/embed'></iframe>"
   ]
  },
  {
   "cell_type": "markdown",
   "metadata": {
    "slideshow": {
     "slide_type": "slide"
    }
   },
   "source": [
    "### Stop all immigration and close the UK borders until ISIS is defeated.\n",
    "\n",
    "<iframe style='width:800px; min-height:600px; height:90%' src='https://team.carto.com/u/stuartlynn/builder/ad373e3e-00b0-11e7-9256-0e233c30368f/embed'></iframe>"
   ]
  },
  {
   "cell_type": "markdown",
   "metadata": {
    "slideshow": {
     "slide_type": "slide"
    }
   },
   "source": [
    "## Conclusions\n",
    "\n",
    "- Visualizing data is a great way to gain insight in to that data \n",
    "- There are other, more statistical things you can do to also get insight in to your data \n",
    "- Tools and libraries like SK-LEARN and PYSAL can give you quick methods for applying these methods \n",
    "- We are slowly making these methods avaliable in CARTO in an easy to use code free manner."
   ]
  },
  {
   "cell_type": "markdown",
   "metadata": {
    "slideshow": {
     "slide_type": "slide"
    }
   },
   "source": [
    "## But remember .... \n",
    "\n",
    "<img src='https://cdn.meme.am/cache/instances/folder373/500x/43601373.jpg'></img>\n",
    "\n",
    "We just scratched the surface here. This was more about wetting your appetite and getting you to think beyond visualizing data. Need to be cautions with some of these ideas and approaches."
   ]
  }
 ],
 "metadata": {
  "celltoolbar": "Slideshow",
  "kernelspec": {
   "display_name": "Python 3",
   "language": "python",
   "name": "python3"
  },
  "language_info": {
   "codemirror_mode": {
    "name": "ipython",
    "version": 3
   },
   "file_extension": ".py",
   "mimetype": "text/x-python",
   "name": "python",
   "nbconvert_exporter": "python",
   "pygments_lexer": "ipython3",
   "version": "3.6.0"
  }
 },
 "nbformat": 4,
 "nbformat_minor": 2
}
